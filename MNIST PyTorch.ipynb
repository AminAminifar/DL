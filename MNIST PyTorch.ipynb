{
 "cells": [
  {
   "cell_type": "code",
   "execution_count": 1,
   "id": "b8326c4f",
   "metadata": {},
   "outputs": [
    {
     "name": "stderr",
     "output_type": "stream",
     "text": [
      "C:\\Users\\amina\\anaconda3\\envs\\torch_env\\lib\\site-packages\\tqdm\\auto.py:22: TqdmWarning: IProgress not found. Please update jupyter and ipywidgets. See https://ipywidgets.readthedocs.io/en/stable/user_install.html\n",
      "  from .autonotebook import tqdm as notebook_tqdm\n"
     ]
    }
   ],
   "source": [
    "import torch\n",
    "import torch.nn as nn\n",
    "from pathlib import Path\n",
    "import gzip\n",
    "import numpy as np\n",
    "# from sklearn.preprocessing import LabelEncoder\n",
    "from sklearn.utils import shuffle\n",
    "from sklearn.metrics import accuracy_score\n",
    "from sys import stdout\n",
    "from matplotlib import pyplot as plt"
   ]
  },
  {
   "cell_type": "code",
   "execution_count": 2,
   "id": "23cafd8e",
   "metadata": {},
   "outputs": [],
   "source": [
    "# torch.rand(3,3)\n",
    "# torch.cuda.is_available()\n",
    "# torch.cuda.device_count()\n",
    "# torch.cuda.get_device_name(torch.cuda.current_device())"
   ]
  },
  {
   "cell_type": "markdown",
   "id": "811bdd36",
   "metadata": {},
   "source": [
    "# Load data"
   ]
  },
  {
   "cell_type": "code",
   "execution_count": 3,
   "id": "b2823e4b",
   "metadata": {},
   "outputs": [],
   "source": [
    "def to_categorical(y, num_classes):\n",
    "    \"\"\" 1-hot encodes a tensor \"\"\"\n",
    "    return np.eye(num_classes, dtype='uint8')[y]\n",
    "\n",
    "# print(to_categorical(y=3, num_classes=4))"
   ]
  },
  {
   "cell_type": "code",
   "execution_count": 4,
   "id": "af49ec4f",
   "metadata": {},
   "outputs": [],
   "source": [
    "# load train data\n",
    "data_dir = Path('C:/Amin/Workspace/Data/MNIST')\n",
    "\n",
    "# load train data\n",
    "f = gzip.open(data_dir/'train-images-idx3-ubyte.gz','r')\n",
    "image_size = 28\n",
    "num_images = 60000\n",
    "\n",
    "\n",
    "f.read(16)\n",
    "buf = f.read(image_size * image_size * num_images)\n",
    "train_data = np.frombuffer(buf, dtype=np.uint8).astype(np.float32)\n",
    "train_data = train_data.reshape(num_images, image_size, image_size, 1)\n",
    "\n",
    "# image = np.asarray(train_data[2]).squeeze()\n",
    "# plt.imshow(image, cmap=\"Greys\")\n",
    "# plt.show()\n",
    "\n",
    "# labels\n",
    "f = gzip.open(data_dir/'train-labels-idx1-ubyte.gz','r')\n",
    "f.read(8)\n",
    "\n",
    "buf = f.read(num_images)\n",
    "train_labels = np.frombuffer(buf, dtype=np.uint8).astype(np.int64)\n",
    "# train_labels = to_categorical(y=train_labels, num_classes=10)\n",
    "# print(train_labels, type(train_labels), np.shape(train_labels))"
   ]
  },
  {
   "cell_type": "code",
   "execution_count": 5,
   "id": "0faa62cc",
   "metadata": {},
   "outputs": [],
   "source": [
    "# load test data\n",
    "data_dir = Path('C:/Amin/Workspace/Data/MNIST')\n",
    "\n",
    "# load test data\n",
    "f = gzip.open(data_dir/'t10k-images-idx3-ubyte.gz','r')\n",
    "image_size = 28\n",
    "num_images = 10000\n",
    "\n",
    "\n",
    "f.read(16)\n",
    "buf = f.read(image_size * image_size * num_images)\n",
    "test_data = np.frombuffer(buf, dtype=np.uint8).astype(np.float32)\n",
    "test_data = test_data.reshape(num_images, image_size, image_size, 1)\n",
    "\n",
    "# image = np.asarray(test_data[2]).squeeze()\n",
    "# plt.imshow(image, cmap=\"Greys\")\n",
    "# plt.show()\n",
    "\n",
    "# labels\n",
    "f = gzip.open(data_dir/'t10k-labels-idx1-ubyte.gz','r')\n",
    "f.read(8)\n",
    "\n",
    "buf = f.read(num_images)\n",
    "test_labels = np.frombuffer(buf, dtype=np.uint8).astype(np.int64)\n",
    "# test_labels = to_categorical(y=test_labels, num_classes=10)\n",
    "# print(test_labels)"
   ]
  },
  {
   "cell_type": "markdown",
   "id": "b9c0f0f7",
   "metadata": {},
   "source": [
    "# define model"
   ]
  },
  {
   "cell_type": "code",
   "execution_count": 6,
   "id": "cc20e72d",
   "metadata": {},
   "outputs": [],
   "source": [
    "    \n",
    "class MyConvNet(nn.Module):\n",
    "    # define model elements\n",
    "    def __init__(self, in_channels):\n",
    "        super().__init__() # MyConvNet, self\n",
    "        \n",
    "        #first hidden layer\n",
    "        self.hidden_1 = nn.Conv2d(in_channels=in_channels, out_channels=32, kernel_size=3, stride=1, padding=1)\n",
    "        nn.init.kaiming_uniform_(self.hidden_1.weight, nonlinearity='relu')\n",
    "        self.Norm_1 = nn.BatchNorm2d(num_features=32)\n",
    "        self.activation_1 = nn.ReLU()\n",
    "        self.pool_1 = nn.MaxPool2d(kernel_size=(2,2), stride=(2,2))\n",
    "        \n",
    "        # second hidden layer\n",
    "        self.hidden_2 = nn.Conv2d(in_channels=32, out_channels=32, kernel_size=3, stride=1, padding=1)\n",
    "        nn.init.kaiming_uniform_(self.hidden_2.weight, nonlinearity='relu')\n",
    "        self.Norm_2 = nn.BatchNorm2d(num_features=32)\n",
    "        self.activation_2 = nn.ReLU()\n",
    "        self.pool_2 = nn.MaxPool2d(kernel_size=(2,2), stride=(2,2))\n",
    "        \n",
    "        # third hidden layer \n",
    "        self.hidden_3 = nn.Linear(in_features=7*7*32, out_features=100)\n",
    "        nn.init.kaiming_uniform_(self.hidden_3.weight, nonlinearity='relu')\n",
    "        self.Norm_3 = nn.BatchNorm1d(num_features=100)\n",
    "        self.activation_3 = nn.ReLU()\n",
    "        \n",
    "        # output layer\n",
    "        self.hidden_4 = nn.Linear(in_features=100, out_features=10)\n",
    "        nn.init.xavier_uniform_(self.hidden_4.weight)\n",
    "        self.activation_4 = nn.Softmax(dim=1)\n",
    "\n",
    "        \n",
    "    def forward(self, X):\n",
    "        # input to first hidden layer\n",
    "        out_hidden_1 = self.hidden_1(X)\n",
    "        out_Norm_1 = self.Norm_1(out_hidden_1)\n",
    "        out_activation_1 = self.activation_1(out_Norm_1)\n",
    "        out_pool_1 = self.pool_1(out_activation_1)\n",
    "        \n",
    "        # second hidden layer\n",
    "        out_hidden_2 = self.hidden_2(out_pool_1)\n",
    "        out_Norm_2 = self.Norm_2(out_hidden_2)\n",
    "        out_activation_2 = self.activation_2(out_Norm_2)\n",
    "        out_pool_2 = self.pool_2(out_activation_2)\n",
    "        \n",
    "        # flatten\n",
    "        out_flatten = out_pool_2.view(out_pool_2.size(0), -1)\n",
    "        \n",
    "        \n",
    "        \n",
    "        # third hidden layer\n",
    "        out_hidden_3 = self.hidden_3(out_flatten)\n",
    "        out_Norm_3 = self.Norm_3(out_hidden_3)\n",
    "        out_activation_3 = self.activation_3(out_Norm_3)\n",
    "        \n",
    "        # output layer\n",
    "        out_hidden_4 = self.hidden_4(out_activation_3)\n",
    "        out_activation_4 = self.activation_4(out_hidden_4)\n",
    "        \n",
    "        return out_activation_4\n",
    "    "
   ]
  },
  {
   "cell_type": "code",
   "execution_count": 7,
   "id": "9c28732f",
   "metadata": {},
   "outputs": [],
   "source": [
    "model = MyConvNet(in_channels=1)"
   ]
  },
  {
   "cell_type": "markdown",
   "id": "90146d0e",
   "metadata": {},
   "source": [
    "# Train model"
   ]
  },
  {
   "cell_type": "code",
   "execution_count": 8,
   "id": "031e6cd1",
   "metadata": {},
   "outputs": [
    {
     "name": "stdout",
     "output_type": "stream",
     "text": [
      "\n",
      "Epoch  0 : \n",
      "[==========] 100 %\n",
      "Epoch  1 : \n",
      "[==========] 100 %\n",
      "Epoch  2 : \n",
      "[==========] 100 %\n",
      "Epoch  3 : \n",
      "[==========] 100 %\n",
      "Epoch  4 : \n",
      "[==========] 100 %\n",
      "Epoch  5 : \n",
      "[==========] 100 %\n",
      "Epoch  6 : \n",
      "[==========] 100 %\n",
      "Epoch  7 : \n",
      "[==========] 100 %\n",
      "Epoch  8 : \n",
      "[==========] 100 %\n",
      "Epoch  9 : \n",
      "[==========] 100 %"
     ]
    }
   ],
   "source": [
    "# define the optimization\n",
    "criterion = nn.CrossEntropyLoss()\n",
    "optimizer = torch.optim.Adam(model.parameters(), lr=0.0001)\n",
    "\n",
    "# enumerate epochs\n",
    "for epoch in range(10):\n",
    "    print(\"\\nEpoch \", epoch, \": \")\n",
    "    \n",
    "    train_data_record_indices = range(0, train_data.shape[0])\n",
    "    train_data_record_indices_shuffled = shuffle(train_data_record_indices)\n",
    "    \n",
    "    batch_size = 64\n",
    "    num_batches = int(train_data.shape[0]/batch_size)\n",
    "    chunk_indices = np.array_split(train_data_record_indices_shuffled, num_batches)\n",
    "            \n",
    "            \n",
    "    # enumerate mini batches\n",
    "    for i in range(num_batches):  # range(num_batches)  \n",
    "#         print(\"batch: \", i, \"out of \", num_batches)\n",
    "        a = int((i*10/num_batches))+1\n",
    "        b = \"=\" * a\n",
    "        stdout.write(\"\\r\"+ \"[\"  + b + \"] \" + str(int(i*100/num_batches)+1) + \" %\")     \n",
    "        del b\n",
    "        stdout.flush()\n",
    "        \n",
    "        inputs, targets = train_data[chunk_indices[i]], train_labels[chunk_indices[i]]\n",
    "        inputs = np.reshape(inputs, (inputs.shape[0], 1, 28, 28))\n",
    "        inputs = torch.Tensor(inputs)\n",
    "        targets = torch.Tensor(targets)\n",
    "        targets = targets.type(torch.LongTensor)\n",
    "        # clear the gradients\n",
    "        optimizer.zero_grad()\n",
    "        # compute the model output\n",
    "        yhat = model(inputs)\n",
    "        # calculate loss\n",
    "        loss = criterion(yhat, targets)\n",
    "        # credit assignment\n",
    "        loss.backward()\n",
    "        # update model weights\n",
    "        optimizer.step()"
   ]
  },
  {
   "cell_type": "markdown",
   "id": "fe8a521f",
   "metadata": {},
   "source": [
    "# evaluate"
   ]
  },
  {
   "cell_type": "code",
   "execution_count": 9,
   "id": "476c2bbc",
   "metadata": {},
   "outputs": [
    {
     "name": "stdout",
     "output_type": "stream",
     "text": [
      "accuracy_score:  0.9905\n"
     ]
    }
   ],
   "source": [
    "inputs, targets = test_data, test_labels\n",
    "inputs = np.reshape(inputs, (inputs.shape[0], 1, 28, 28))\n",
    "inputs = torch.Tensor(inputs)\n",
    "targets = torch.Tensor(targets)\n",
    "targets = targets.type(torch.LongTensor)\n",
    "\n",
    "\n",
    "# evaluate the model on the test set\n",
    "yhat = model(inputs)\n",
    "# retrieve numpy array\n",
    "yhat = yhat.detach().numpy()\n",
    "actual = targets.numpy()\n",
    "# convert to class labels\n",
    "yhat = np.argmax(yhat, axis=1)\n",
    "# reshape for stacking\n",
    "actual = actual.reshape((len(actual), 1))\n",
    "yhat = yhat.reshape((len(yhat), 1))\n",
    "\n",
    "\n",
    "acc = accuracy_score(actual, yhat)\n",
    "print(\"accuracy_score: \", acc)"
   ]
  }
 ],
 "metadata": {
  "kernelspec": {
   "display_name": "Python 3 (ipykernel)",
   "language": "python",
   "name": "python3"
  },
  "language_info": {
   "codemirror_mode": {
    "name": "ipython",
    "version": 3
   },
   "file_extension": ".py",
   "mimetype": "text/x-python",
   "name": "python",
   "nbconvert_exporter": "python",
   "pygments_lexer": "ipython3",
   "version": "3.9.13"
  }
 },
 "nbformat": 4,
 "nbformat_minor": 5
}
