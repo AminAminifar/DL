{
 "cells": [
  {
   "cell_type": "code",
   "execution_count": 1,
   "id": "84fe806f",
   "metadata": {},
   "outputs": [],
   "source": [
    "import gzip\n",
    "import numpy as np\n",
    "from pathlib import Path\n",
    "import matplotlib.pyplot as plt\n",
    "\n",
    "import tensorflow as tf\n",
    "import pandas as pd"
   ]
  },
  {
   "cell_type": "code",
   "execution_count": 2,
   "id": "e554b3c0",
   "metadata": {},
   "outputs": [],
   "source": [
    "data_dir = Path('C:/Amin/Workspace/Data/MNIST')\n",
    "\n",
    "f = gzip.open(data_dir/'train-images-idx3-ubyte.gz','r')\n",
    "image_size = 28\n",
    "num_images = 60000\n",
    "\n",
    "\n",
    "f.read(16)\n",
    "buf = f.read(image_size * image_size * num_images)\n",
    "data = np.frombuffer(buf, dtype=np.uint8).astype(np.float32)\n",
    "data = data.reshape(num_images, image_size, image_size, 1)\n",
    "\n",
    "# image = np.asarray(data[2]).squeeze()\n",
    "# plt.imshow(image)\n",
    "# plt.show()\n"
   ]
  },
  {
   "cell_type": "code",
   "execution_count": 3,
   "id": "b413aafb",
   "metadata": {},
   "outputs": [],
   "source": [
    "f = gzip.open(data_dir/'train-labels-idx1-ubyte.gz','r')\n",
    "f.read(8)\n",
    "# for i in range(0,5):\n",
    "#     buf = f.read(1)\n",
    "#     labels = np.frombuffer(buf, dtype=np.uint8).astype(np.int64)\n",
    "#     print(labels)\n",
    "\n",
    "buf = f.read(num_images)\n",
    "labels = np.frombuffer(buf, dtype=np.uint8).astype(np.int64)\n",
    "# print(labels)"
   ]
  },
  {
   "cell_type": "code",
   "execution_count": 4,
   "id": "aa971d5e",
   "metadata": {},
   "outputs": [],
   "source": [
    "X = np.asarray(data).squeeze()\n",
    "y = labels\n",
    "shape = (28, 28)"
   ]
  },
  {
   "cell_type": "code",
   "execution_count": 5,
   "id": "1c3b0469",
   "metadata": {},
   "outputs": [],
   "source": [
    "model = tf.keras.Sequential([\n",
    "#         tf.keras.layers.Flatten(input_shape=shape),\n",
    "        tf.keras.layers.InputLayer(input_shape=[28, 28, 1]),\n",
    "        \n",
    "        # first hidden layer\n",
    "        tf.keras.layers.Conv2D(filters=32, kernel_size=3, strides=1, padding=\"same\"),  # , input_shape=(28, 28, 1)\n",
    "        tf.keras.layers.BatchNormalization(),\n",
    "        tf.keras.layers.Activation('relu'),\n",
    "        tf.keras.layers.MaxPool2D(pool_size=2, strides=2),\n",
    "        \n",
    "        # second hidden layer\n",
    "        tf.keras.layers.Conv2D(filters=32, kernel_size=3, strides=1, padding=\"same\"),\n",
    "        tf.keras.layers.BatchNormalization(),\n",
    "        tf.keras.layers.Activation('relu'),\n",
    "        tf.keras.layers.MaxPool2D(pool_size=2, strides=2),\n",
    "\n",
    "    \n",
    "        # third hidden layer\n",
    "        tf.keras.layers.Flatten(),\n",
    "        tf.keras.layers.Dense(units=100),\n",
    "        tf.keras.layers.BatchNormalization(),\n",
    "        tf.keras.layers.Activation('relu'),\n",
    "\n",
    "    \n",
    "        # output layer\n",
    "        tf.keras.layers.Dense(units=10, activation=tf.nn.softmax)\n",
    "        ])\n"
   ]
  },
  {
   "cell_type": "code",
   "execution_count": 6,
   "id": "0639181d",
   "metadata": {},
   "outputs": [],
   "source": [
    "model.compile(optimizer=tf.keras.optimizers.Adam(),\n",
    "                loss=tf.keras.losses.SparseCategoricalCrossentropy(from_logits=True) ,\n",
    "                metrics=['accuracy'])"
   ]
  },
  {
   "cell_type": "code",
   "execution_count": 7,
   "id": "997900f9",
   "metadata": {},
   "outputs": [
    {
     "name": "stdout",
     "output_type": "stream",
     "text": [
      "Epoch 1/10\n",
      "938/938 [==============================] - 5s 3ms/step - loss: 1.5107 - accuracy: 0.9661\n",
      "Epoch 2/10\n",
      "938/938 [==============================] - 3s 3ms/step - loss: 1.4772 - accuracy: 0.9871\n",
      "Epoch 3/10\n",
      "938/938 [==============================] - 3s 3ms/step - loss: 1.4729 - accuracy: 0.9906\n",
      "Epoch 4/10\n",
      "938/938 [==============================] - 3s 3ms/step - loss: 1.4708 - accuracy: 0.9921\n",
      "Epoch 5/10\n",
      "938/938 [==============================] - 3s 3ms/step - loss: 1.4688 - accuracy: 0.9941\n",
      "Epoch 6/10\n",
      "938/938 [==============================] - 3s 3ms/step - loss: 1.4675 - accuracy: 0.9948\n",
      "Epoch 7/10\n",
      "938/938 [==============================] - 3s 3ms/step - loss: 1.4672 - accuracy: 0.9950\n",
      "Epoch 8/10\n",
      "938/938 [==============================] - 3s 3ms/step - loss: 1.4663 - accuracy: 0.9958\n",
      "Epoch 9/10\n",
      "938/938 [==============================] - 3s 3ms/step - loss: 1.4662 - accuracy: 0.9958\n",
      "Epoch 10/10\n",
      "938/938 [==============================] - 3s 3ms/step - loss: 1.4652 - accuracy: 0.9966\n"
     ]
    }
   ],
   "source": [
    "history = model.fit(\n",
    "    X, y,\n",
    "    batch_size=64,\n",
    "    epochs=10,\n",
    ")"
   ]
  },
  {
   "cell_type": "code",
   "execution_count": 8,
   "id": "be1ebf69",
   "metadata": {},
   "outputs": [
    {
     "data": {
      "image/png": "[encoded data removed]",
      "text/plain": [
       "<Figure size 432x288 with 1 Axes>"
      ]
     },
     "metadata": {
      "needs_background": "light"
     },
     "output_type": "display_data"
    }
   ],
   "source": [
    "history_df = pd.DataFrame(history.history)\n",
    "# Start the plot at epoch 5. You can change this to get a different view.\n",
    "history_df.loc[5:, ['loss']].plot();"
   ]
  },
  {
   "cell_type": "code",
   "execution_count": 9,
   "id": "2d83293b",
   "metadata": {},
   "outputs": [],
   "source": [
    "# test\n",
    "\n",
    "f = gzip.open(data_dir/'t10k-images-idx3-ubyte.gz','r')\n",
    "image_size = 28\n",
    "num_images = 10000\n",
    "\n",
    "\n",
    "f.read(16)\n",
    "buf = f.read(image_size * image_size * num_images)\n",
    "data_test = np.frombuffer(buf, dtype=np.uint8).astype(np.float32)\n",
    "data_test = data_test.reshape(num_images, image_size, image_size, 1)\n",
    "\n",
    "# image = np.asarray(data_test[2]).squeeze()\n",
    "# plt.imshow(image)\n",
    "# plt.show()"
   ]
  },
  {
   "cell_type": "code",
   "execution_count": 10,
   "id": "02058727",
   "metadata": {},
   "outputs": [],
   "source": [
    "f = gzip.open(data_dir/'t10k-labels-idx1-ubyte.gz','r')\n",
    "f.read(8)\n",
    "# for i in range(0,5):\n",
    "#     buf = f.read(1)\n",
    "#     labels = np.frombuffer(buf, dtype=np.uint8).astype(np.int64)\n",
    "#     print(labels)\n",
    "\n",
    "buf = f.read(num_images)\n",
    "labels_test = np.frombuffer(buf, dtype=np.uint8).astype(np.int64)\n",
    "# print(labels)"
   ]
  },
  {
   "cell_type": "code",
   "execution_count": 11,
   "id": "a3410cf8",
   "metadata": {},
   "outputs": [
    {
     "name": "stdout",
     "output_type": "stream",
     "text": [
      "313/313 [==============================] - 3s 2ms/step - loss: 1.4705 - accuracy: 0.9917\n",
      "\n",
      "Test accuracy: 0.9916999936103821\n"
     ]
    }
   ],
   "source": [
    "# predictions = model.predict(data_test)\n",
    "X = np.asarray(data_test).squeeze()\n",
    "y = labels_test\n",
    "test_loss, test_acc = model.evaluate(X,  y)\n",
    "print('\\nTest accuracy:', test_acc)"
   ]
  }
 ],
 "metadata": {
  "kernelspec": {
   "display_name": "Python 3 (ipykernel)",
   "language": "python",
   "name": "python3"
  },
  "language_info": {
   "codemirror_mode": {
    "name": "ipython",
    "version": 3
   },
   "file_extension": ".py",
   "mimetype": "text/x-python",
   "name": "python",
   "nbconvert_exporter": "python",
   "pygments_lexer": "ipython3",
   "version": "3.9.12"
  }
 },
 "nbformat": 4,
 "nbformat_minor": 5
}
