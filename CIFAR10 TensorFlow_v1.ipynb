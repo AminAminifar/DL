{
 "cells": [
  {
   "cell_type": "markdown",
   "id": "f0af589c",
   "metadata": {},
   "source": [
    "CNN for CIFAR10 (https://www.tensorflow.org/tutorials/images/cnn)"
   ]
  },
  {
   "cell_type": "code",
   "execution_count": 1,
   "id": "84fe806f",
   "metadata": {},
   "outputs": [],
   "source": [
    "import gzip\n",
    "import numpy as np\n",
    "from pathlib import Path\n",
    "import matplotlib.pyplot as plt\n",
    "\n",
    "import tensorflow as tf\n",
    "import pandas as pd\n",
    "\n",
    "from sklearn.utils import shuffle\n",
    "\n",
    "from keras.utils import to_categorical\n",
    "\n",
    "from tensorflow.keras import datasets"
   ]
  },
  {
   "cell_type": "code",
   "execution_count": 2,
   "id": "a74c3097",
   "metadata": {},
   "outputs": [],
   "source": [
    "(X, y), (X_te, y_te) = datasets.cifar10.load_data()\n",
    "X, X_te = X / 255.0, X_te / 255.0"
   ]
  },
  {
   "cell_type": "code",
   "execution_count": 3,
   "id": "1c3b0469",
   "metadata": {},
   "outputs": [],
   "source": [
    "model = tf.keras.Sequential([\n",
    "#         tf.keras.layers.Flatten(input_shape=shape),\n",
    "        tf.keras.layers.InputLayer(input_shape=[32, 32, 3]),\n",
    "        \n",
    "        # first hidden layer\n",
    "        tf.keras.layers.Conv2D(filters=32, kernel_size=3, activation='relu'),  # , padding=\"same\"\n",
    "#         tf.keras.layers.BatchNormalization(),\n",
    "#         tf.keras.layers.Activation('relu'),\n",
    "        tf.keras.layers.MaxPool2D(pool_size=2),\n",
    "        \n",
    "        # second hidden layer\n",
    "        tf.keras.layers.Conv2D(filters=64, kernel_size=3, activation='relu'),\n",
    "#         tf.keras.layers.BatchNormalization(),\n",
    "#         tf.keras.layers.Activation('relu'),\n",
    "        tf.keras.layers.MaxPool2D(pool_size=2),\n",
    "    \n",
    "        # third hidden layer\n",
    "        tf.keras.layers.Conv2D(filters=64, kernel_size=3, activation='relu'),\n",
    "#         tf.keras.layers.BatchNormalization(),\n",
    "#         tf.keras.layers.Activation('relu'),\n",
    "#         tf.keras.layers.MaxPool2D(pool_size=2),\n",
    "\n",
    "    \n",
    "        # fourth hidden layer\n",
    "        tf.keras.layers.Flatten(),\n",
    "        tf.keras.layers.Dense(units=64, activation='relu'),\n",
    "#         tf.keras.layers.BatchNormalization(),\n",
    "#         tf.keras.layers.Activation('relu'),\n",
    "\n",
    "    \n",
    "        # output layer\n",
    "        tf.keras.layers.Dense(units=10)  # , activation=tf.nn.softmax\n",
    "        ])\n"
   ]
  },
  {
   "cell_type": "code",
   "execution_count": 4,
   "id": "f77a0a6c",
   "metadata": {},
   "outputs": [
    {
     "name": "stdout",
     "output_type": "stream",
     "text": [
      "Model: \"sequential\"\n",
      "_________________________________________________________________\n",
      " Layer (type)                Output Shape              Param #   \n",
      "=================================================================\n",
      " conv2d (Conv2D)             (None, 30, 30, 32)        896       \n",
      "                                                                 \n",
      " max_pooling2d (MaxPooling2D  (None, 15, 15, 32)       0         \n",
      " )                                                               \n",
      "                                                                 \n",
      " conv2d_1 (Conv2D)           (None, 13, 13, 64)        18496     \n",
      "                                                                 \n",
      " max_pooling2d_1 (MaxPooling  (None, 6, 6, 64)         0         \n",
      " 2D)                                                             \n",
      "                                                                 \n",
      " conv2d_2 (Conv2D)           (None, 4, 4, 64)          36928     \n",
      "                                                                 \n",
      " flatten (Flatten)           (None, 1024)              0         \n",
      "                                                                 \n",
      " dense (Dense)               (None, 64)                65600     \n",
      "                                                                 \n",
      " dense_1 (Dense)             (None, 10)                650       \n",
      "                                                                 \n",
      "=================================================================\n",
      "Total params: 122,570\n",
      "Trainable params: 122,570\n",
      "Non-trainable params: 0\n",
      "_________________________________________________________________\n"
     ]
    }
   ],
   "source": [
    "model.summary()"
   ]
  },
  {
   "cell_type": "code",
   "execution_count": 5,
   "id": "0639181d",
   "metadata": {},
   "outputs": [],
   "source": [
    "model.compile(optimizer='adam', \n",
    "                loss= tf.keras.losses.SparseCategoricalCrossentropy(from_logits=True) ,\n",
    "                metrics=['accuracy'])"
   ]
  },
  {
   "cell_type": "code",
   "execution_count": 6,
   "id": "190a1937",
   "metadata": {},
   "outputs": [
    {
     "name": "stdout",
     "output_type": "stream",
     "text": [
      "Epoch 1/10\n",
      "1563/1563 [==============================] - 23s 7ms/step - loss: 1.5278 - accuracy: 0.4445 - val_loss: 1.2600 - val_accuracy: 0.5468\n",
      "Epoch 2/10\n",
      "1563/1563 [==============================] - 10s 7ms/step - loss: 1.1740 - accuracy: 0.5839 - val_loss: 1.1348 - val_accuracy: 0.5947\n",
      "Epoch 3/10\n",
      "1563/1563 [==============================] - 10s 7ms/step - loss: 1.0362 - accuracy: 0.6334 - val_loss: 1.0011 - val_accuracy: 0.6504\n",
      "Epoch 4/10\n",
      "1563/1563 [==============================] - 10s 7ms/step - loss: 0.9475 - accuracy: 0.6680 - val_loss: 0.9612 - val_accuracy: 0.6610\n",
      "Epoch 5/10\n",
      "1563/1563 [==============================] - 11s 7ms/step - loss: 0.8761 - accuracy: 0.6916 - val_loss: 1.0375 - val_accuracy: 0.6368\n",
      "Epoch 6/10\n",
      "1563/1563 [==============================] - 11s 7ms/step - loss: 0.8156 - accuracy: 0.7151 - val_loss: 1.0407 - val_accuracy: 0.6410\n",
      "Epoch 7/10\n",
      "1563/1563 [==============================] - 10s 7ms/step - loss: 0.7743 - accuracy: 0.7266 - val_loss: 0.9422 - val_accuracy: 0.6773\n",
      "Epoch 8/10\n",
      "1563/1563 [==============================] - 10s 7ms/step - loss: 0.7305 - accuracy: 0.7439 - val_loss: 0.8782 - val_accuracy: 0.6992\n",
      "Epoch 9/10\n",
      "1563/1563 [==============================] - 10s 6ms/step - loss: 0.6948 - accuracy: 0.7556 - val_loss: 0.9254 - val_accuracy: 0.6861\n",
      "Epoch 10/10\n",
      "1563/1563 [==============================] - 10s 6ms/step - loss: 0.6606 - accuracy: 0.7654 - val_loss: 0.8759 - val_accuracy: 0.7047\n"
     ]
    }
   ],
   "source": [
    "history = model.fit(X, y, epochs=10, \n",
    "                    validation_data=(X_te, y_te))"
   ]
  },
  {
   "cell_type": "code",
   "execution_count": 7,
   "id": "025f162d",
   "metadata": {},
   "outputs": [
    {
     "name": "stdout",
     "output_type": "stream",
     "text": [
      "313/313 - 1s - loss: 0.8759 - accuracy: 0.7047 - 997ms/epoch - 3ms/step\n"
     ]
    },
    {
     "data": {
      "image/png": "[encoded data removed]",
      "text/plain": [
       "<Figure size 432x288 with 1 Axes>"
      ]
     },
     "metadata": {
      "needs_background": "light"
     },
     "output_type": "display_data"
    }
   ],
   "source": [
    "plt.plot(history.history['accuracy'], label='accuracy')\n",
    "plt.plot(history.history['val_accuracy'], label = 'val_accuracy')\n",
    "plt.xlabel('Epoch')\n",
    "plt.ylabel('Accuracy')\n",
    "plt.ylim([0.5, 1])\n",
    "plt.legend(loc='lower right')\n",
    "\n",
    "test_loss, test_acc = model.evaluate(X_te,  y_te, verbose=2)"
   ]
  }
 ],
 "metadata": {
  "kernelspec": {
   "display_name": "Python 3 (ipykernel)",
   "language": "python",
   "name": "python3"
  },
  "language_info": {
   "codemirror_mode": {
    "name": "ipython",
    "version": 3
   },
   "file_extension": ".py",
   "mimetype": "text/x-python",
   "name": "python",
   "nbconvert_exporter": "python",
   "pygments_lexer": "ipython3",
   "version": "3.9.12"
  }
 },
 "nbformat": 4,
 "nbformat_minor": 5
}
