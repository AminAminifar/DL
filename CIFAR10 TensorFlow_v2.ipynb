{
 "cells": [
  {
   "cell_type": "code",
   "execution_count": 1,
   "id": "84fe806f",
   "metadata": {},
   "outputs": [],
   "source": [
    "import gzip\n",
    "import numpy as np\n",
    "from pathlib import Path\n",
    "import matplotlib.pyplot as plt\n",
    "\n",
    "import tensorflow as tf\n",
    "import pandas as pd\n",
    "\n",
    "from sklearn.utils import shuffle\n",
    "\n",
    "# from keras.utils import to_categorical"
   ]
  },
  {
   "cell_type": "code",
   "execution_count": 2,
   "id": "8295411f",
   "metadata": {},
   "outputs": [
    {
     "name": "stdout",
     "output_type": "stream",
     "text": [
      "C:\\Amin\\Workspace\\Data\\CIFAR-10\\cifar-10-batches-py\\batches.meta\n",
      "C:\\Amin\\Workspace\\Data\\CIFAR-10\\cifar-10-batches-py\\data_batch_1\n",
      "C:\\Amin\\Workspace\\Data\\CIFAR-10\\cifar-10-batches-py\\data_batch_2\n",
      "C:\\Amin\\Workspace\\Data\\CIFAR-10\\cifar-10-batches-py\\data_batch_3\n",
      "C:\\Amin\\Workspace\\Data\\CIFAR-10\\cifar-10-batches-py\\data_batch_4\n",
      "C:\\Amin\\Workspace\\Data\\CIFAR-10\\cifar-10-batches-py\\data_batch_5\n",
      "C:\\Amin\\Workspace\\Data\\CIFAR-10\\cifar-10-batches-py\\readme.html\n",
      "C:\\Amin\\Workspace\\Data\\CIFAR-10\\cifar-10-batches-py\\test_batch\n"
     ]
    }
   ],
   "source": [
    "import os\n",
    "for dirname, _, filenames in os.walk('C:\\Amin\\Workspace\\Data\\CIFAR-10\\cifar-10-batches-py'):\n",
    "    for filename in filenames:\n",
    "        print(os.path.join(dirname, filename))"
   ]
  },
  {
   "cell_type": "code",
   "execution_count": 3,
   "id": "56422cc5",
   "metadata": {},
   "outputs": [],
   "source": [
    "def unpickle(file):\n",
    "    import pickle\n",
    "    with open(file, 'rb') as fo:\n",
    "        dict = pickle.load(fo, encoding='bytes')\n",
    "    return dict"
   ]
  },
  {
   "cell_type": "code",
   "execution_count": 4,
   "id": "c760c904",
   "metadata": {},
   "outputs": [
    {
     "data": {
      "text/plain": [
       "{b'num_cases_per_batch': 10000,\n",
       " b'label_names': [b'airplane',\n",
       "  b'automobile',\n",
       "  b'bird',\n",
       "  b'cat',\n",
       "  b'deer',\n",
       "  b'dog',\n",
       "  b'frog',\n",
       "  b'horse',\n",
       "  b'ship',\n",
       "  b'truck'],\n",
       " b'num_vis': 3072}"
      ]
     },
     "execution_count": 4,
     "metadata": {},
     "output_type": "execute_result"
    }
   ],
   "source": [
    "info = unpickle('C:/Amin/Workspace/Data/CIFAR-10/cifar-10-batches-py/batches.meta')\n",
    "info"
   ]
  },
  {
   "cell_type": "code",
   "execution_count": 5,
   "id": "c03b2b7b",
   "metadata": {},
   "outputs": [],
   "source": [
    "data_batch_1 = unpickle('C:/Amin/Workspace/Data/CIFAR-10/cifar-10-batches-py/data_batch_1')"
   ]
  },
  {
   "cell_type": "code",
   "execution_count": 6,
   "id": "8e87b1ae",
   "metadata": {},
   "outputs": [
    {
     "name": "stdout",
     "output_type": "stream",
     "text": [
      "Size of the dictionary: 4\n",
      "Keys in the dictionary: dict_keys([b'batch_label', b'labels', b'data', b'filenames'])\n",
      "\n",
      "Shape:  (10000, 3072)\n",
      "\n",
      "One record:  [ 59  43  50 ... 140  84  72]\n",
      "\n",
      "Labels:  [6 9 9 ... 1 1 5]\n"
     ]
    }
   ],
   "source": [
    "size = len(data_batch_1)\n",
    "print(\"Size of the dictionary:\", size)\n",
    "\n",
    "keys = data_batch_1.keys()\n",
    "print(\"Keys in the dictionary:\", keys)\n",
    "\n",
    "print(\"\\nShape: \", np.shape(data_batch_1[b'data']))\n",
    "print(\"\\nOne record: \", data_batch_1[b'data'][0].astype(int))\n",
    "print(\"\\nLabels: \", np.array(data_batch_1[b'labels']))"
   ]
  },
  {
   "cell_type": "code",
   "execution_count": 7,
   "id": "38b89a3b",
   "metadata": {},
   "outputs": [],
   "source": [
    "def printPicture(subject):\n",
    "    subjectR = subject[0:1024].reshape(32, 32)\n",
    "    subjectG = subject[1024:2048].reshape(32, 32)\n",
    "    subjectB = subject[2048:3072].reshape(32, 32)\n",
    "    plotSubject = np.array([subjectR.T, subjectG.T, subjectB.T]).T\n",
    "    plt.imshow(plotSubject)\n",
    "    plt.tight_layout()"
   ]
  },
  {
   "cell_type": "code",
   "execution_count": 8,
   "id": "c64f119d",
   "metadata": {},
   "outputs": [
    {
     "name": "stdout",
     "output_type": "stream",
     "text": [
      "6 b'frog'\n"
     ]
    },
    {
     "data": {
      "image/png": "[encoded data removed]",
      "text/plain": [
       "<Figure size 432x288 with 1 Axes>"
      ]
     },
     "metadata": {
      "needs_background": "light"
     },
     "output_type": "display_data"
    }
   ],
   "source": [
    "Sample_num = 0\n",
    "\n",
    "printPicture(data_batch_1[b'data'][Sample_num])\n",
    "print(data_batch_1[b'labels'][Sample_num], info[b'label_names'][data_batch_1[b'labels'][Sample_num]])"
   ]
  },
  {
   "cell_type": "code",
   "execution_count": 9,
   "id": "43c88468",
   "metadata": {},
   "outputs": [
    {
     "name": "stdout",
     "output_type": "stream",
     "text": [
      "data_batch_1\n",
      "data_batch_2\n",
      "data_batch_3\n",
      "data_batch_4\n",
      "data_batch_5\n"
     ]
    }
   ],
   "source": [
    "# import train (could be used for validation as well) data\n",
    "\n",
    "data_features = np.empty((50000, 3072))\n",
    "data_labels = np.empty((50000))\n",
    "\n",
    "file_name = 'data_batch_'\n",
    "for i in range(1, 6):\n",
    "    print(file_name + str(i))\n",
    "    data_batch = unpickle('C:/Amin/Workspace/Data/CIFAR-10/cifar-10-batches-py/data_batch_' + str(i))\n",
    "    start_index = (i - 1) * 10000\n",
    "    end_index = i * 10000\n",
    "    data_features[start_index:end_index, :] = data_batch[b'data']\n",
    "    data_labels[start_index:end_index] = data_batch[b'labels']    "
   ]
  },
  {
   "cell_type": "code",
   "execution_count": 10,
   "id": "4a728451",
   "metadata": {},
   "outputs": [],
   "source": [
    "image_size = 32\n",
    "num_images = 50000\n",
    "\n",
    "data = data_features.reshape(num_images, image_size, image_size, 3)"
   ]
  },
  {
   "cell_type": "code",
   "execution_count": 11,
   "id": "aa971d5e",
   "metadata": {},
   "outputs": [],
   "source": [
    "X = np.asarray(data).squeeze() / 255.0\n",
    "y = data_labels\n",
    "# y = to_categorical(data_labels, 10)\n",
    "\n",
    "X, y = shuffle(X, y, random_state=0)"
   ]
  },
  {
   "cell_type": "code",
   "execution_count": 12,
   "id": "910c0272",
   "metadata": {},
   "outputs": [],
   "source": [
    "# y[0]"
   ]
  },
  {
   "cell_type": "code",
   "execution_count": 13,
   "id": "1c3b0469",
   "metadata": {},
   "outputs": [],
   "source": [
    "model = tf.keras.Sequential([\n",
    "#         tf.keras.layers.Flatten(input_shape=shape),\n",
    "        tf.keras.layers.InputLayer(input_shape=[32, 32, 3]),\n",
    "        \n",
    "        # first hidden layer\n",
    "        tf.keras.layers.Conv2D(filters=32, kernel_size=3, activation='relu'),  # , padding=\"same\"\n",
    "#         tf.keras.layers.BatchNormalization(),\n",
    "#         tf.keras.layers.Activation('relu'),\n",
    "        tf.keras.layers.MaxPool2D(pool_size=2),\n",
    "        \n",
    "        # second hidden layer\n",
    "        tf.keras.layers.Conv2D(filters=64, kernel_size=3, activation='relu'),\n",
    "#         tf.keras.layers.BatchNormalization(),\n",
    "#         tf.keras.layers.Activation('relu'),\n",
    "        tf.keras.layers.MaxPool2D(pool_size=2),\n",
    "    \n",
    "        # third hidden layer\n",
    "        tf.keras.layers.Conv2D(filters=64, kernel_size=3, activation='relu'),\n",
    "#         tf.keras.layers.BatchNormalization(),\n",
    "#         tf.keras.layers.Activation('relu'),\n",
    "#         tf.keras.layers.MaxPool2D(pool_size=2),\n",
    "\n",
    "    \n",
    "        # fourth hidden layer\n",
    "        tf.keras.layers.Flatten(),\n",
    "        tf.keras.layers.Dense(units=64, activation='relu'),\n",
    "#         tf.keras.layers.BatchNormalization(),\n",
    "#         tf.keras.layers.Activation('relu'),\n",
    "\n",
    "    \n",
    "        # output layer\n",
    "        tf.keras.layers.Dense(units=10)  # , activation=tf.nn.softmax , activation='softmax'\n",
    "        ])\n"
   ]
  },
  {
   "cell_type": "code",
   "execution_count": 14,
   "id": "90ca75d6",
   "metadata": {},
   "outputs": [
    {
     "name": "stdout",
     "output_type": "stream",
     "text": [
      "Model: \"sequential\"\n",
      "_________________________________________________________________\n",
      " Layer (type)                Output Shape              Param #   \n",
      "=================================================================\n",
      " conv2d (Conv2D)             (None, 30, 30, 32)        896       \n",
      "                                                                 \n",
      " max_pooling2d (MaxPooling2D  (None, 15, 15, 32)       0         \n",
      " )                                                               \n",
      "                                                                 \n",
      " conv2d_1 (Conv2D)           (None, 13, 13, 64)        18496     \n",
      "                                                                 \n",
      " max_pooling2d_1 (MaxPooling  (None, 6, 6, 64)         0         \n",
      " 2D)                                                             \n",
      "                                                                 \n",
      " conv2d_2 (Conv2D)           (None, 4, 4, 64)          36928     \n",
      "                                                                 \n",
      " flatten (Flatten)           (None, 1024)              0         \n",
      "                                                                 \n",
      " dense (Dense)               (None, 64)                65600     \n",
      "                                                                 \n",
      " dense_1 (Dense)             (None, 10)                650       \n",
      "                                                                 \n",
      "=================================================================\n",
      "Total params: 122,570\n",
      "Trainable params: 122,570\n",
      "Non-trainable params: 0\n",
      "_________________________________________________________________\n"
     ]
    }
   ],
   "source": [
    "model.summary()"
   ]
  },
  {
   "cell_type": "code",
   "execution_count": 15,
   "id": "0639181d",
   "metadata": {},
   "outputs": [],
   "source": [
    "model.compile(optimizer='adam',  # tf.keras.optimizers.Adam(),\n",
    "                loss= tf.keras.losses.SparseCategoricalCrossentropy(from_logits=True),  # 'categorical_crossentropy',\n",
    "                metrics=['accuracy'])"
   ]
  },
  {
   "cell_type": "code",
   "execution_count": 16,
   "id": "997900f9",
   "metadata": {},
   "outputs": [],
   "source": [
    "# history = model.fit(\n",
    "#     X, y,\n",
    "# #     batch_size=64,\n",
    "#     epochs=10,\n",
    "# )"
   ]
  },
  {
   "cell_type": "code",
   "execution_count": 17,
   "id": "be1ebf69",
   "metadata": {},
   "outputs": [],
   "source": [
    "# history_df = pd.DataFrame(history.history)\n",
    "# # Start the plot at epoch 5. You can change this to get a different view.\n",
    "# history_df.loc[5:, ['loss']].plot();\n",
    "# history_df.loc[5:, ['accuracy']].plot();"
   ]
  },
  {
   "cell_type": "code",
   "execution_count": 18,
   "id": "d0d8b3bb",
   "metadata": {},
   "outputs": [],
   "source": [
    "# import test data\n",
    "\n",
    "test_data_features = np.empty((10000, 3072))\n",
    "test_data_labels = np.empty((10000))\n",
    "\n",
    "test_batch = unpickle('C:/Amin/Workspace/Data/CIFAR-10/cifar-10-batches-py/test_batch')\n",
    "\n",
    "test_data_features = test_batch[b'data']\n",
    "test_data_labels[:] = test_batch[b'labels']"
   ]
  },
  {
   "cell_type": "code",
   "execution_count": 19,
   "id": "0723b999",
   "metadata": {},
   "outputs": [],
   "source": [
    "image_size = 32\n",
    "num_images = 10000\n",
    "\n",
    "data_test = test_data_features.reshape(num_images, image_size, image_size, 3)"
   ]
  },
  {
   "cell_type": "code",
   "execution_count": 20,
   "id": "a3410cf8",
   "metadata": {},
   "outputs": [],
   "source": [
    "# predictions = model.predict(data_test)\n",
    "X_te = np.asarray(data_test).squeeze() / 255.0\n",
    "y_te = test_data_labels\n",
    "# y_te = to_categorical(test_data_labels, 10)"
   ]
  },
  {
   "cell_type": "code",
   "execution_count": null,
   "id": "1dfbf125",
   "metadata": {},
   "outputs": [
    {
     "name": "stdout",
     "output_type": "stream",
     "text": [
      "Epoch 1/10\n",
      "1563/1563 [==============================] - 22s 7ms/step - loss: 1.6374 - accuracy: 0.4067 - val_loss: 1.4642 - val_accuracy: 0.4749\n",
      "Epoch 2/10\n",
      "1563/1563 [==============================] - 10s 7ms/step - loss: 1.3385 - accuracy: 0.5235 - val_loss: 1.3173 - val_accuracy: 0.5392\n",
      "Epoch 3/10\n",
      "1451/1563 [==========================>...] - ETA: 0s - loss: 1.2132 - accuracy: 0.5712"
     ]
    }
   ],
   "source": [
    "history = model.fit(X, y, epochs=10, \n",
    "                    validation_data=(X_te, y_te))"
   ]
  },
  {
   "cell_type": "code",
   "execution_count": null,
   "id": "3cf5a1eb",
   "metadata": {},
   "outputs": [],
   "source": [
    "# print(np.shape(X))\n",
    "# test_loss, test_acc = model.evaluate(X_te,  y_te)\n",
    "# print('\\nTest accuracy:', test_acc)"
   ]
  },
  {
   "cell_type": "code",
   "execution_count": null,
   "id": "12f255cd",
   "metadata": {},
   "outputs": [],
   "source": [
    "plt.plot(history.history['accuracy'], label='accuracy')\n",
    "plt.plot(history.history['val_accuracy'], label = 'val_accuracy')\n",
    "plt.xlabel('Epoch')\n",
    "plt.ylabel('Accuracy')\n",
    "plt.ylim([0.5, 1])\n",
    "plt.legend(loc='lower right')\n",
    "\n",
    "test_loss, test_acc = model.evaluate(X_te,  y_te, verbose=2)"
   ]
  }
 ],
 "metadata": {
  "kernelspec": {
   "display_name": "Python 3 (ipykernel)",
   "language": "python",
   "name": "python3"
  },
  "language_info": {
   "codemirror_mode": {
    "name": "ipython",
    "version": 3
   },
   "file_extension": ".py",
   "mimetype": "text/x-python",
   "name": "python",
   "nbconvert_exporter": "python",
   "pygments_lexer": "ipython3",
   "version": "3.9.12"
  }
 },
 "nbformat": 4,
 "nbformat_minor": 5
}
